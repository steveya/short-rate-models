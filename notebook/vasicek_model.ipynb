{
 "cells": [
  {
   "cell_type": "code",
   "execution_count": 736,
   "metadata": {},
   "outputs": [],
   "source": [
    "import numpy as np\n",
    "import pandas as pd\n",
    "import matplotlib.pyplot as plt\n",
    "import seaborn as sns\n",
    "from scipy.optimize import minimize\n",
    "\n",
    "plt.style.use('fivethirtyeight')\n",
    "plt.rcParams.update({\n",
    "    'figure.figsize': (10, 3),\n",
    "    'axes.titlesize': 18,\n",
    "    'axes.labelsize': 16,\n",
    "    'xtick.labelsize': 12,\n",
    "    'ytick.labelsize': 12,\n",
    "    'legend.fontsize': 12,\n",
    "    'font.family': 'serif',\n",
    "    'font.serif': ['Times New Roman', 'serif'],\n",
    "    'grid.alpha': 0.5,\n",
    "    'grid.linestyle': '--',\n",
    "    'axes.grid': True,\n",
    "    'lines.linewidth': 2,\n",
    "    'lines.markersize': 7,\n",
    "    'axes.facecolor': '#f5f5f5',\n",
    "    'figure.facecolor': '#f5f5f5',\n",
    "    'legend.frameon': True,\n",
    "    'legend.framealpha': 0.9,\n",
    "    'legend.loc': 'best',\n",
    "})\n"
   ]
  },
  {
   "cell_type": "code",
   "execution_count": 25,
   "metadata": {},
   "outputs": [],
   "source": [
    "def simulate_vasicek_short_rates_euler(r0, kappa, theta, sigma, t, dt, seed=None):\n",
    "    \"\"\"\n",
    "    Simulates the Vasicek short rates model using the \n",
    "    Euler-Maruyama discretization. \n",
    "    \n",
    "    Parameters:\n",
    "    r0 (float): Initial (current) short rate.\n",
    "    kappa (float): Speed of mean reversion.\n",
    "    theta (float): Long-term mean level of the short rate.\n",
    "    sigma (float): Annualized volatility of the short rate process.\n",
    "    t (float): Number of years to simulate.\n",
    "    dt (float): Time step size.\n",
    "    \n",
    "    Returns:\n",
    "    times (np.ndarray): Time steps.\n",
    "    rates (np.ndarray): Simulated short rates.\n",
    "    \"\"\"\n",
    "\n",
    "    np.random.seed(seed)\n",
    "    \n",
    "    nd = int(t / dt)\n",
    "\n",
    "    times = np.linspace(0, t, nd)\n",
    "\n",
    "    rates = np.zeros(nd)\n",
    "    rates[0] = r0\n",
    "\n",
    "    diffusion = sigma * np.random.normal(0, np.sqrt(dt), nd)\n",
    "\n",
    "    for t in range(1, nd):\n",
    "        dr = kappa * (theta - rates[t-1]) * dt + diffusion[t]\n",
    "        rates[t] = rates[t-1] + dr\n",
    "        \n",
    "    return times, rates\n"
   ]
  },
  {
   "cell_type": "code",
   "execution_count": 26,
   "metadata": {},
   "outputs": [],
   "source": [
    "def simulate_vasicek_short_rates_exact(r0, kappa, theta, sigma, t, dt, seed=None):\n",
    "    \"\"\"\n",
    "    Simulates the Vasicek short rates model using the \n",
    "    Doob (analytical solution)\n",
    "    \n",
    "    Parameters:\n",
    "    r0 (float): Initial (current) short rate.\n",
    "    kappa (float): Speed of mean reversion.\n",
    "    theta (float): Long-term mean level of the short rate.\n",
    "    sigma (float): Annualized volatility of the short rate process.\n",
    "    t (float): Number of years to simulate.\n",
    "    dt (float): Time step size.\n",
    "    \n",
    "    Returns:\n",
    "    times (np.ndarray): Time steps.\n",
    "    rates (np.ndarray): Simulated short rates.\n",
    "    \"\"\"\n",
    "\n",
    "    np.random.seed(seed)\n",
    "\n",
    "    nd = int(t / dt)\n",
    "\n",
    "    times = np.linspace(0, t, nd)\n",
    "\n",
    "    rates = np.zeros(nd)\n",
    "    rates[0] = r0\n",
    "\n",
    "    exp_kappa_dt = np.exp(-kappa * dt)\n",
    "    variance = sigma**2 * (1 - np.exp(-2 * kappa * dt)) / (2 * kappa)\n",
    "    for t in range(1, nd):\n",
    "        exp_rate = (theta * (1 - exp_kappa_dt) + rates[t-1] * exp_kappa_dt)\n",
    "        rates[t] = np.random.normal(exp_rate, np.sqrt(variance))\n",
    "    \n",
    "    return times, rates\n"
   ]
  },
  {
   "cell_type": "code",
   "execution_count": 155,
   "metadata": {},
   "outputs": [],
   "source": [
    "def vasicek_log_likelihood(params, rates, dt):\n",
    "    kappa, theta, sigma = params\n",
    "    \n",
    "    exp_r = rates[:-1] + kappa * (theta - rates[:-1]) * dt\n",
    "    var_r = sigma**2 * dt\n",
    "    \n",
    "    logL = np.sum(\n",
    "        -0.5 * (\n",
    "            np.log(2 * np.pi * var_r) + \n",
    "            (rates[1:] - exp_r)**2 / var_r\n",
    "        )\n",
    "    )\n",
    "    \n",
    "    return -logL\n",
    "\n",
    "def calibrate_vasicek_mle(rates, dt):\n",
    "    initial_params = [0.05, np.mean(rates), np.std(np.diff(rates)) * np.sqrt(1/dt)]\n",
    "    bounds = [(0, None), (None, None), (1e-8, None)]\n",
    "    \n",
    "    result = minimize(\n",
    "        vasicek_log_likelihood, initial_params, \n",
    "        args=(rates, dt), bounds=bounds, method='POWELL'\n",
    "    )\n",
    "    \n",
    "    kappa, theta, sigma = result.x\n",
    "    return kappa, theta, sigma\n"
   ]
  },
  {
   "cell_type": "code",
   "execution_count": 695,
   "metadata": {},
   "outputs": [
    {
     "data": {
      "image/png": "[encoded data removed]",
      "text/plain": [
       "<Figure size 640x480 with 1 Axes>"
      ]
     },
     "metadata": {},
     "output_type": "display_data"
    }
   ],
   "source": [
    "# Vasicek simulation parameters\n",
    "halflife = 3\n",
    "r0 = 0.03\n",
    "kappa = 1 - 0.5 ** (1/halflife) # halflife = 2Y\n",
    "theta = 0.05\n",
    "sigma = 0.01\n",
    "t = 5.0  # Total time in years\n",
    "dt = 1/252  # Daily time steps\n",
    "seed = 0\n",
    "\n",
    "# Simulate using Euler discretization\n",
    "rates_euler = simulate_vasicek_short_rates_euler(r0, kappa, theta, sigma, t, dt, seed)\n",
    "plt.plot(*rates_euler, label='Euler')\n",
    "\n",
    "# Simulate using exact discretization\n",
    "rates_exact = simulate_vasicek_short_rates_exact(r0, kappa, theta, sigma, t, dt, seed)\n",
    "plt.plot(*rates_exact, label='Exact')\n",
    "\n",
    "plt.legend()\n",
    "plt.show()\n",
    "\n",
    "rates = rates_exact[1]  # Assuming market observed short rates are the simulated exact rates\n"
   ]
  },
  {
   "cell_type": "code",
   "execution_count": 696,
   "metadata": {},
   "outputs": [
    {
     "name": "stdout",
     "output_type": "stream",
     "text": [
      "MLE calibrated parameters: kappa=0.2862184746173285, theta=0.0320823949707456, sigma=0.00977219438409873\n",
      "Ground truth: kappa=0.2062994740159002, theta=0.05, sigma=0.01\n"
     ]
    }
   ],
   "source": [
    "# MLE Parameter Estimation\n",
    "kappa_mle, theta_mle, sigma_mle = calibrate_vasicek_mle(rates, dt)\n",
    "print(f'MLE calibrated parameters: kappa={kappa_mle}, theta={theta_mle}, sigma={sigma_mle}')\n",
    "print(f\"Ground truth: kappa={kappa}, theta={theta}, sigma={sigma}\")"
   ]
  },
  {
   "cell_type": "code",
   "execution_count": 697,
   "metadata": {},
   "outputs": [],
   "source": [
    "class ParticleFilterOU:\n",
    "    def __init__(self, num_particles=1000, dt=1/252, resample_threshold=0.5, jitter_scale=0.01):\n",
    "        self.num_particles = num_particles\n",
    "        self.dt = dt\n",
    "        self.resample_threshold = resample_threshold\n",
    "        self.jitter_scale = jitter_scale\n",
    "        self.kappa_particles = None\n",
    "        self.theta_particles = None\n",
    "        self.sigma_particles = None\n",
    "        self.weights = None\n",
    "\n",
    "    def initialize_particles(self, kappa_range, theta_range, sigma_range):\n",
    "        \"\"\"Initialize particles uniformly within given ranges.\"\"\"\n",
    "        self.kappa_particles = np.random.uniform(kappa_range[0], kappa_range[1], self.num_particles)\n",
    "        self.theta_particles = np.random.uniform(theta_range[0], theta_range[1], self.num_particles)\n",
    "        self.sigma_particles = np.random.uniform(sigma_range[0], sigma_range[1], self.num_particles)\n",
    "        self.weights = np.ones(self.num_particles) / self.num_particles\n",
    "\n",
    "    def predict(self):\n",
    "        \"\"\"Predict the next state of the particles (No state evolution in parameters).\"\"\"\n",
    "        pass  # In this case, the parameters do not evolve over time.\n",
    "\n",
    "    def update(self, r_prev, r_curr):\n",
    "        \"\"\"Update particle weights based on the observed data.\"\"\"\n",
    "        drift = self.kappa_particles * (self.theta_particles - r_prev) * self.dt\n",
    "        variance = self.sigma_particles**2 * self.dt\n",
    "        likelihoods = np.exp(-0.5 * ((r_curr - r_prev - drift)**2) / variance) / np.sqrt(2 * np.pi * variance)\n",
    "        self.weights *= likelihoods\n",
    "        self.weights /= np.sum(self.weights)\n",
    "\n",
    "    def resample_and_perturb(self):\n",
    "        \"\"\"Resample particles based on their weights and add perturbation (jitter).\"\"\"\n",
    "        effective_sample_size = 1.0 / np.sum(self.weights**2)\n",
    "        if effective_sample_size / self.num_particles < self.resample_threshold:\n",
    "            indices = np.random.choice(np.arange(self.num_particles), size=self.num_particles, p=self.weights)\n",
    "            self.kappa_particles = self.kappa_particles[indices]\n",
    "            self.theta_particles = self.theta_particles[indices]\n",
    "            self.sigma_particles = self.sigma_particles[indices]\n",
    "\n",
    "            # Perturb particles with Gaussian noise\n",
    "            self.kappa_particles += np.random.normal(0, self.jitter_scale * np.std(self.kappa_particles), self.num_particles)\n",
    "            self.theta_particles += np.random.normal(0, self.jitter_scale * np.std(self.theta_particles), self.num_particles)\n",
    "            self.sigma_particles += np.random.normal(0, self.jitter_scale * np.std(self.sigma_particles), self.num_particles)\n",
    "\n",
    "            # Re-normalize weights\n",
    "            self.weights.fill(1.0 / self.num_particles)\n",
    "\n",
    "    def weighted_median(self, data, weights):\n",
    "        \"\"\"Compute the weighted median of the data.\"\"\"\n",
    "        sorted_indices = np.argsort(data)\n",
    "        sorted_data = data[sorted_indices]\n",
    "        sorted_weights = weights[sorted_indices]\n",
    "        cumulative_weights = np.cumsum(sorted_weights)\n",
    "\n",
    "        cutoff = cumulative_weights[-1] / 2.0\n",
    "        median_index = np.where(cumulative_weights >= cutoff)[0][0]\n",
    "        return sorted_data[median_index]\n",
    "\n",
    "    def estimate_parameters_weighted_median(self):\n",
    "        \"\"\"Estimate the parameters by computing the weighted median of the particles.\"\"\"\n",
    "        kappa_est = self.weighted_median(self.kappa_particles, self.weights)\n",
    "        theta_est = self.weighted_median(self.theta_particles, self.weights)\n",
    "        sigma_est = self.weighted_median(self.sigma_particles, self.weights)\n",
    "        return kappa_est, theta_est, sigma_est\n",
    "\n",
    "\n",
    "    def estimate_parameters_weighted_mean(self):\n",
    "        \"\"\"Estimate the parameters by computing the weighted mean of the particles.\"\"\"\n",
    "        kappa_est = np.sum(self.kappa_particles * self.weights)\n",
    "        theta_est = np.sum(self.theta_particles * self.weights)\n",
    "        sigma_est = np.sum(self.sigma_particles * self.weights)\n",
    "        return kappa_est, theta_est, sigma_est\n",
    "\n",
    "    def run_particle_filter(self, data, kappa_range, theta_range, sigma_range):\n",
    "        \"\"\"Run the particle filter on the given data.\"\"\"\n",
    "        self.initialize_particles(kappa_range, theta_range, sigma_range)\n",
    "        \n",
    "        for t in range(1, len(data)):\n",
    "            self.predict()\n",
    "            self.update(data[t-1], data[t])\n",
    "            self.resample_and_perturb()\n",
    "\n",
    "        return self.estimate_parameters_weighted_mean()\n",
    "\n"
   ]
  },
  {
   "cell_type": "code",
   "execution_count": 698,
   "metadata": {},
   "outputs": [
    {
     "name": "stdout",
     "output_type": "stream",
     "text": [
      "True kappa: 0.2062994740159002, PF Estimated kappa: 0.3146047105840802, MLE Estimated kappa: 0.2862184746173285\n",
      "True theta: 0.05, PF Estimated theta: 0.039118976836957364, MLE Estimated theta: 0.0320823949707456\n",
      "True sigma: 0.01, PF Estimated sigma: 0.009734898631476028, MLE Estimated sigma: 0.00977219438409873\n"
     ]
    }
   ],
   "source": [
    "pf = ParticleFilterOU(num_particles=250000, dt=dt, jitter_scale=1/np.sqrt(250000))\n",
    "kappa_range = (0.00, 5.00)\n",
    "theta_range = (0.00, 0.10)\n",
    "sigma_range = (1e-8, 0.05)\n",
    "kappa_est, theta_est, sigma_est = pf.run_particle_filter(rates, kappa_range, theta_range, sigma_range)\n",
    "\n",
    "print(f\"True kappa: {kappa}, PF Estimated kappa: {kappa_est}, MLE Estimated kappa: {kappa_mle}\")\n",
    "print(f\"True theta: {theta}, PF Estimated theta: {theta_est}, MLE Estimated theta: {theta_mle}\")\n",
    "print(f\"True sigma: {sigma}, PF Estimated sigma: {sigma_est}, MLE Estimated sigma: {sigma_mle}\")\n",
    "\n",
    "#sns.scatterplot(x=pf.theta_particles, y=pf.kappa_particles, hue=pf.weights, palette=\"viridis\")"
   ]
  },
  {
   "cell_type": "code",
   "execution_count": null,
   "metadata": {},
   "outputs": [],
   "source": [
    "kappa_ests = []\n",
    "theta_ests = []\n",
    "sigma_ests = []\n",
    "for _ in range(100):\n",
    "    pf = ParticleFilterOU(num_particles=20000, dt=dt, jitter_scale=1)\n",
    "    kappa_est, theta_est, sigma_est = pf.run_particle_filter(rates, kappa_range, theta_range, sigma_range)\n",
    "    kappa_ests.append(kappa_est)\n",
    "    theta_ests.append(theta_est)\n",
    "    sigma_ests.append(sigma_est)\n",
    "\n",
    "aaa = np.array(kappa_ests)\n",
    "theta_ests = np.array(theta_ests)\n",
    "sigma_ests = np.array(sigma_ests)\n",
    "\n",
    "kappa_ests_mean = np.mean(kappa_ests, axis=0)\n",
    "theta_ests_mean = np.mean(theta_ests, axis=0)\n",
    "sigma_ests_mean = np.mean(sigma_ests, axis=0)\n",
    "\n",
    "kappa_ests_std = np.std(kappa_ests, axis=0)\n",
    "theta_ests_std = np.std(theta_ests, axis=0)\n",
    "sigma_ests_std = np.std(sigma_ests, axis=0)\n"
   ]
  },
  {
   "cell_type": "code",
   "execution_count": null,
   "metadata": {},
   "outputs": [],
   "source": []
  },
  {
   "cell_type": "code",
   "execution_count": null,
   "metadata": {},
   "outputs": [],
   "source": []
  },
  {
   "cell_type": "code",
   "execution_count": 724,
   "metadata": {},
   "outputs": [],
   "source": [
    "class ParticleFilterOU:\n",
    "    def __init__(self, num_particles=1000, dt=1/252, resample_threshold=0.5, ess_threshold=0.5, initial_jitter_scale=0.01):\n",
    "        self.num_particles = num_particles\n",
    "        self.dt = dt\n",
    "        self.resample_threshold = resample_threshold\n",
    "        self.ess_threshold = ess_threshold  # The ESS threshold to adjust the jitter scale\n",
    "        self.jitter_scale = initial_jitter_scale\n",
    "        self.kappa_particles = None\n",
    "        self.theta_particles = None\n",
    "        self.sigma_particles = None\n",
    "        self.weights = None\n",
    "\n",
    "    def initialize_particles(self, kappa_range, theta_range, sigma_range, initial_jitter_scale=0.01):\n",
    "        \"\"\"Initialize particles uniformly within given ranges.\"\"\"\n",
    "        self.kappa_particles = np.random.uniform(kappa_range[0], kappa_range[1], self.num_particles)\n",
    "        self.theta_particles = np.random.uniform(theta_range[0], theta_range[1], self.num_particles)\n",
    "        self.sigma_particles = np.random.uniform(sigma_range[0], sigma_range[1], self.num_particles)\n",
    "        self.weights = np.ones(self.num_particles) / self.num_particles\n",
    "        self.jitter_scale = initial_jitter_scale\n",
    "\n",
    "    def predict(self):\n",
    "        \"\"\"Predict the next state of the particles (No state evolution in parameters).\"\"\"\n",
    "        pass  # In this case, the parameters do not evolve over time.\n",
    "\n",
    "    def update(self, r_prev, r_curr):\n",
    "        \"\"\"Update particle weights based on the observed data.\"\"\"\n",
    "        drift = self.kappa_particles * (self.theta_particles - r_prev) * self.dt\n",
    "        variance = self.sigma_particles**2 * self.dt\n",
    "        likelihoods = np.exp(-0.5 * ((r_curr - r_prev - drift)**2) / variance) / np.sqrt(2 * np.pi * variance)\n",
    "        self.weights *= likelihoods\n",
    "        self.weights /= np.sum(self.weights)\n",
    "\n",
    "    def resample_and_perturb(self):\n",
    "        \"\"\"Resample particles based on their weights and adapt perturbation based on ESS.\"\"\"\n",
    "        effective_sample_size = 1.0 / np.sum(self.weights**2)\n",
    "        if effective_sample_size / self.num_particles < self.resample_threshold:\n",
    "            indices = np.random.choice(np.arange(self.num_particles), size=self.num_particles, p=self.weights)\n",
    "            self.kappa_particles = self.kappa_particles[indices]\n",
    "            self.theta_particles = self.theta_particles[indices]\n",
    "            self.sigma_particles = self.sigma_particles[indices]\n",
    "\n",
    "            # Adapt the jitter scale based on ESS\n",
    "            self.adapt_jitter_scale(effective_sample_size)\n",
    "            #print(self.jitter_scale)\n",
    "            # Perturb particles with Gaussian noise using the adapted jitter scale\n",
    "            self.kappa_particles += np.random.normal(0, self.jitter_scale, self.num_particles)\n",
    "            self.theta_particles += np.random.normal(0, self.jitter_scale * np.std(self.theta_particles), self.num_particles)\n",
    "            self.sigma_particles += np.random.normal(0, self.jitter_scale * np.std(self.sigma_particles), self.num_particles)\n",
    "\n",
    "            # Re-normalize weights\n",
    "            self.weights.fill(1.0 / self.num_particles)\n",
    "\n",
    "    def adapt_jitter_scale(self, effective_sample_size):\n",
    "        \"\"\"Adapt jitter scale based on the Effective Sample Size (ESS).\"\"\"\n",
    "        # If ESS is too low, increase jitter scale to introduce more diversity\n",
    "        if effective_sample_size / self.num_particles < self.ess_threshold:\n",
    "            self.jitter_scale *= 1.1  # Increase jitter scale by 10%\n",
    "        else:\n",
    "            self.jitter_scale *= 0.9  # Decrease jitter scale by 10%\n",
    "\n",
    "        # Clamp jitter scale to a reasonable range to avoid extremes\n",
    "        self.jitter_scale = max(self.jitter_scale, 1e-8)  # Avoid going too low\n",
    "        self.jitter_scale = min(self.jitter_scale, 1.0)   # Avoid going too high\n",
    "\n",
    "\n",
    "    def weighted_median(self, data, weights):\n",
    "        \"\"\"Compute the weighted median of the data.\"\"\"\n",
    "        sorted_indices = np.argsort(data)\n",
    "        sorted_data = data[sorted_indices]\n",
    "        sorted_weights = weights[sorted_indices]\n",
    "        cumulative_weights = np.cumsum(sorted_weights)\n",
    "\n",
    "        cutoff = cumulative_weights[-1] / 2.0\n",
    "        median_index = np.where(cumulative_weights >= cutoff)[0][0]\n",
    "        return sorted_data[median_index]\n",
    "\n",
    "    def estimate_parameters_weighted_median(self):\n",
    "        \"\"\"Estimate the parameters by computing the weighted median of the particles.\"\"\"\n",
    "        kappa_est = self.weighted_median(self.kappa_particles, self.weights)\n",
    "        theta_est = self.weighted_median(self.theta_particles, self.weights)\n",
    "        sigma_est = self.weighted_median(self.sigma_particles, self.weights)\n",
    "        return kappa_est, theta_est, sigma_est\n",
    "\n",
    "\n",
    "    def estimate_parameters_weighted_mean(self):\n",
    "        \"\"\"Estimate the parameters by computing the weighted mean of the particles.\"\"\"\n",
    "        kappa_est = np.sum(self.kappa_particles * self.weights)\n",
    "        theta_est = np.sum(self.theta_particles * self.weights)\n",
    "        sigma_est = np.sum(self.sigma_particles * self.weights)\n",
    "        return kappa_est, theta_est, sigma_est\n",
    "\n",
    "    def run_particle_filter(self, data, kappa_range, theta_range, sigma_range):\n",
    "        \"\"\"Run the particle filter on the given data.\"\"\"\n",
    "        self.initialize_particles(kappa_range, theta_range, sigma_range)\n",
    "        \n",
    "        for t in range(1, len(data)):\n",
    "            self.predict()\n",
    "            self.update(data[t-1], data[t])\n",
    "            self.resample_and_perturb()\n",
    "\n",
    "        return self.estimate_parameters_weighted_mean()\n",
    "\n"
   ]
  },
  {
   "cell_type": "code",
   "execution_count": 725,
   "metadata": {},
   "outputs": [
    {
     "name": "stdout",
     "output_type": "stream",
     "text": [
      "True kappa: 0.2062994740159002, PF Estimated kappa: 0.3713312121807215, MLE Estimated kappa: 0.2862184746173285\n",
      "True theta: 0.05, PF Estimated theta: 0.0386962225070816, MLE Estimated theta: 0.0320823949707456\n",
      "True sigma: 0.01, PF Estimated sigma: 0.009611351018678823, MLE Estimated sigma: 0.00977219438409873\n"
     ]
    }
   ],
   "source": [
    "pf = ParticleFilterOU(num_particles=250000, dt=dt)\n",
    "kappa_range = (0.00, 1.00)\n",
    "theta_range = (0.00, 0.10)\n",
    "sigma_range = (1e-8, 0.05)\n",
    "kappa_est, theta_est, sigma_est = pf.run_particle_filter(rates, kappa_range, theta_range, sigma_range)\n",
    "\n",
    "print(f\"True kappa: {kappa}, PF Estimated kappa: {kappa_est}, MLE Estimated kappa: {kappa_mle}\")\n",
    "print(f\"True theta: {theta}, PF Estimated theta: {theta_est}, MLE Estimated theta: {theta_mle}\")\n",
    "print(f\"True sigma: {sigma}, PF Estimated sigma: {sigma_est}, MLE Estimated sigma: {sigma_mle}\")\n",
    "\n",
    "#sns.scatterplot(x=pf.theta_particles, y=pf.kappa_particles, hue=pf.weights, palette=\"viridis\")"
   ]
  },
  {
   "cell_type": "code",
   "execution_count": 726,
   "metadata": {},
   "outputs": [
    {
     "name": "stdout",
     "output_type": "stream",
     "text": [
      "0\n",
      "50\n",
      "100\n",
      "150\n",
      "200\n",
      "250\n",
      "300\n",
      "350\n",
      "400\n",
      "450\n"
     ]
    }
   ],
   "source": [
    "kappa_ests = []\n",
    "theta_ests = []\n",
    "sigma_ests = []\n",
    "\n",
    "kappa_range = (0.00, 1.00)\n",
    "theta_range = (0.00, 0.10)\n",
    "sigma_range = (1e-8, 0.05)\n",
    "\n",
    "num_run = 500\n",
    "np.random.seed(42)\n",
    "random_seeds = np.random.randint(0, 10000, num_run)\n",
    "for i in range(num_run):\n",
    "    if i % 50 == 0:\n",
    "        print(i)\n",
    "    pf = ParticleFilterOU(num_particles=250000, dt=dt)\n",
    "    _, rates =  simulate_vasicek_short_rates_exact(r0, kappa, theta, sigma, t, dt, random_seeds[i])\n",
    "    kappa_est, theta_est, sigma_est = pf.run_particle_filter(rates, kappa_range, theta_range, sigma_range)\n",
    "    kappa_ests.append(kappa_est)\n",
    "    theta_ests.append(theta_est)\n",
    "    sigma_ests.append(sigma_est)\n"
   ]
  },
  {
   "cell_type": "code",
   "execution_count": 727,
   "metadata": {},
   "outputs": [],
   "source": [
    "\n",
    "#kappa_ests = np.array(kappa_ests)\n",
    "#theta_ests = np.array(theta_ests)\n",
    "#sigma_ests = np.array(sigma_ests)\n",
    "\n",
    "kappa_ests_mean = np.mean(kappa_ests, axis=0)\n",
    "theta_ests_mean = np.mean(theta_ests, axis=0)\n",
    "sigma_ests_mean = np.mean(sigma_ests, axis=0)\n",
    "\n",
    "kappa_ests_std = np.std(kappa_ests, axis=0)\n",
    "theta_ests_std = np.std(theta_ests, axis=0)\n",
    "sigma_ests_std = np.std(sigma_ests, axis=0)\n"
   ]
  },
  {
   "cell_type": "code",
   "execution_count": 717,
   "metadata": {},
   "outputs": [
    {
     "name": "stdout",
     "output_type": "stream",
     "text": [
      "0\n",
      "50\n",
      "100\n",
      "150\n",
      "200\n",
      "250\n",
      "300\n",
      "350\n",
      "400\n",
      "450\n"
     ]
    }
   ],
   "source": [
    "kappa_ests_mle = []\n",
    "theta_ests_mle = []\n",
    "sigma_ests_mle = []\n",
    "\n",
    "num_run = 500\n",
    "np.random.seed(42)\n",
    "random_seeds = np.random.randint(0, 10000, num_run)\n",
    "for i in range(num_run):\n",
    "    if i % 50 == 0:\n",
    "        print(i)\n",
    "    _, rates =  simulate_vasicek_short_rates_exact(r0, kappa, theta, sigma, t, dt, random_seeds[i])\n",
    "    kappa_est, theta_est, sigma_est = calibrate_vasicek_mle(rates, dt)\n",
    "    kappa_ests_mle.append(kappa_est)\n",
    "    theta_ests_mle.append(theta_est)\n",
    "    sigma_ests_mle.append(sigma_est)\n",
    "\n",
    "kappa_ests_mle = np.array(kappa_ests_mle)\n",
    "theta_ests_mle = np.array(theta_ests_mle)\n",
    "sigma_ests_mle = np.array(sigma_ests_mle)\n",
    "\n",
    "kappa_ests_mle_mean = np.mean(kappa_ests_mle, axis=0)\n",
    "theta_ests_mle_mean = np.mean(theta_ests_mle, axis=0)\n",
    "sigma_ests_mle_mean = np.mean(sigma_ests_mle, axis=0)\n",
    "\n",
    "kappa_ests_mle_std = np.std(kappa_ests_mle, axis=0)\n",
    "theta_ests_mle_std = np.std(theta_ests_mle, axis=0)\n",
    "sigma_ests_mle_std = np.std(sigma_ests_mle, axis=0)"
   ]
  },
  {
   "cell_type": "code",
   "execution_count": 729,
   "metadata": {},
   "outputs": [
    {
     "name": "stdout",
     "output_type": "stream",
     "text": [
      "True kappa: 0.2062994740159002, PF Estimated kappa mean: 0.4201853423393957, RF Estimated kappa std: 0.08984630750959911, MLE Estimated kappa: 1.1744308821971503\n",
      "True theta: 0.05, PF Estimated theta mean: 0.04569677088033121, RF Estimated theta std: 0.01253618638936063, MLE Estimated theta: 1.078916208056762\n",
      "True sigma: 0.01, PF Estimated sigma mean: 0.010010680128602846, RF Estimated sigma std: 0.00020210192004677967, MLE Estimated sigma: 0.009992843466871801\n"
     ]
    }
   ],
   "source": [
    "\n",
    "print(f\"True kappa: {kappa}, PF Estimated kappa mean: {kappa_ests_mean}, RF Estimated kappa std: {kappa_ests_std}, MLE Estimated kappa: {kappa_ests_mle_mean}\")\n",
    "print(f\"True theta: {theta}, PF Estimated theta mean: {theta_ests_mean}, RF Estimated theta std: {theta_ests_std}, MLE Estimated theta: {theta_ests_mle_mean}\")\n",
    "print(f\"True sigma: {sigma}, PF Estimated sigma mean: {sigma_ests_mean}, RF Estimated sigma std: {sigma_ests_std}, MLE Estimated sigma: {sigma_ests_mle_mean}\")"
   ]
  },
  {
   "cell_type": "code",
   "execution_count": 730,
   "metadata": {},
   "outputs": [
    {
     "data": {
      "image/png": "[encoded data removed]",
      "text/plain": [
       "<Figure size 640x480 with 1 Axes>"
      ]
     },
     "metadata": {},
     "output_type": "display_data"
    }
   ],
   "source": [
    "plt.hist(kappa_ests, bins=100, alpha=0.5);\n",
    "plt.hist(kappa_ests_mle, bins=100, alpha=0.5);\n"
   ]
  },
  {
   "cell_type": "code",
   "execution_count": 733,
   "metadata": {},
   "outputs": [
    {
     "data": {
      "text/plain": [
       "count    500.000000\n",
       "mean       0.420185\n",
       "std        0.089936\n",
       "min        0.172759\n",
       "25%        0.358482\n",
       "50%        0.430122\n",
       "75%        0.479960\n",
       "max        0.680176\n",
       "dtype: float64"
      ]
     },
     "execution_count": 733,
     "metadata": {},
     "output_type": "execute_result"
    }
   ],
   "source": [
    "pd.Series(kappa_ests).describe()"
   ]
  },
  {
   "cell_type": "code",
   "execution_count": 735,
   "metadata": {},
   "outputs": [
    {
     "data": {
      "text/plain": [
       "(0.29474739218362644, 0.23169876745344667)"
      ]
     },
     "execution_count": 735,
     "metadata": {},
     "output_type": "execute_result"
    }
   ],
   "source": [
    "import scipy\n",
    "scipy.stats.mode(kappa_ests)[0], scipy.stats.mode(kappa_ests_mle)[0]\n",
    "\n"
   ]
  },
  {
   "cell_type": "code",
   "execution_count": null,
   "metadata": {},
   "outputs": [],
   "source": []
  },
  {
   "cell_type": "code",
   "execution_count": 587,
   "metadata": {},
   "outputs": [],
   "source": [
    "kappa_ests = []\n",
    "theta_ests = []\n",
    "sigma_ests = []\n",
    "for _ in range(100):\n",
    "    pf = ParticleFilterOU(num_particles=20000, dt=dt, jitter_scale=0.19, tolerance=0.1)\n",
    "    kappa_est, theta_est, sigma_est = pf.run_particle_filter(rates, kappa_range, theta_range, sigma_range)\n",
    "    kappa_ests.append(kappa_est)\n",
    "    theta_ests.append(theta_est)\n",
    "    sigma_ests.append(sigma_est)\n",
    "\n",
    "aaa = np.array(kappa_ests)\n",
    "theta_ests = np.array(theta_ests)\n",
    "sigma_ests = np.array(sigma_ests)\n",
    "\n",
    "kappa_ests_mean = np.mean(kappa_ests, axis=0)\n",
    "theta_ests_mean = np.mean(theta_ests, axis=0)\n",
    "sigma_ests_mean = np.mean(sigma_ests, axis=0)\n",
    "\n",
    "kappa_ests_std = np.std(kappa_ests, axis=0)\n",
    "theta_ests_std = np.std(theta_ests, axis=0)\n",
    "sigma_ests_std = np.std(sigma_ests, axis=0)\n"
   ]
  },
  {
   "cell_type": "code",
   "execution_count": 588,
   "metadata": {},
   "outputs": [
    {
     "name": "stdout",
     "output_type": "stream",
     "text": [
      "True kappa: 0.2062994740159002, PF Estimated kappa mean: 0.356313245399516, RF Estimated kappa std: 0.09695929248334405, MLE Estimated kappa: 0.2862184746173285\n",
      "True theta: 0.05, PF Estimated theta mean: 0.04851170993509422, RF Estimated theta std: 0.0027338558871225784, MLE Estimated theta: 0.0320823949707456\n",
      "True sigma: 0.01, PF Estimated sigma mean: 0.009734916003301423, RF Estimated sigma std: 1.52706386354035e-05, MLE Estimated sigma: 0.00977219438409873\n"
     ]
    }
   ],
   "source": [
    "\n",
    "print(f\"True kappa: {kappa}, PF Estimated kappa mean: {kappa_ests_mean}, RF Estimated kappa std: {kappa_ests_std}, MLE Estimated kappa: {kappa_mle}\")\n",
    "print(f\"True theta: {theta}, PF Estimated theta mean: {theta_ests_mean}, RF Estimated theta std: {theta_ests_std}, MLE Estimated theta: {theta_mle}\")\n",
    "print(f\"True sigma: {sigma}, PF Estimated sigma mean: {sigma_ests_mean}, RF Estimated sigma std: {sigma_ests_std}, MLE Estimated sigma: {sigma_mle}\")"
   ]
  },
  {
   "cell_type": "code",
   "execution_count": null,
   "metadata": {},
   "outputs": [],
   "source": []
  },
  {
   "cell_type": "code",
   "execution_count": 617,
   "metadata": {},
   "outputs": [
    {
     "name": "stdout",
     "output_type": "stream",
     "text": [
      "True kappa: 0.2062994740159002, PF Estimated kappa: 0.169476142506839, MLE Estimated kappa: 0.2862184746173285\n",
      "True theta: 0.05, PF Estimated theta: 0.03815907662962943, MLE Estimated theta: 0.0320823949707456\n",
      "True sigma: 0.01, PF Estimated sigma: 0.009879231147870227, MLE Estimated sigma: 0.00977219438409873\n",
      "0.02661436380604738, 0.009897238447656357\n"
     ]
    },
    {
     "data": {
      "text/plain": [
       "<Axes: >"
      ]
     },
     "execution_count": 617,
     "metadata": {},
     "output_type": "execute_result"
    },
    {
     "data": {
      "image/png": "[encoded data removed]",
      "text/plain": [
       "<Figure size 640x480 with 1 Axes>"
      ]
     },
     "metadata": {},
     "output_type": "display_data"
    }
   ],
   "source": [
    "import numpy as np\n",
    "from scipy.optimize import minimize\n",
    "from scipy.stats import norm\n",
    "\n",
    "class ParticleFilterOU:\n",
    "    def __init__(self, num_particles=1000, dt=1/252, resample_threshold=0.5, jitter_scale=0.01, tolerance=0.01):\n",
    "        self.num_particles = num_particles\n",
    "        self.dt = dt\n",
    "        self.resample_threshold = resample_threshold\n",
    "        self.jitter_scale = jitter_scale\n",
    "        self.tolerance = tolerance\n",
    "        self.kappa_particles = None\n",
    "        self.theta_particles = None\n",
    "        self.sigma_particles = None\n",
    "        self.weights = None\n",
    "        self.mle_theta = None\n",
    "        self.mle_sigma = None\n",
    "\n",
    "    def initialize_particles(self, kappa_range, theta_range, sigma_range):\n",
    "        \"\"\"Initialize particles uniformly within given ranges.\"\"\"\n",
    "        self.kappa_particles = np.random.uniform(kappa_range[0], kappa_range[1], self.num_particles)\n",
    "        self.theta_particles = np.random.uniform(theta_range[0], theta_range[1], self.num_particles)\n",
    "        self.sigma_particles = np.random.uniform(sigma_range[0], sigma_range[1], self.num_particles)\n",
    "        self.weights = np.ones(self.num_particles) / self.num_particles\n",
    "\n",
    "    def predict(self):\n",
    "        \"\"\"Predict the next state of the particles (No state evolution in parameters).\"\"\"\n",
    "        pass  # In this case, the parameters do not evolve over time.\n",
    "\n",
    "    def update(self, r_prev, r_curr):\n",
    "        \"\"\"Update particle weights based on the observed data.\"\"\"\n",
    "        drift = self.kappa_particles * (self.theta_particles - r_prev) * self.dt\n",
    "        variance = self.sigma_particles**2 * self.dt\n",
    "        likelihoods = np.exp(-0.5 * ((r_curr - r_prev - drift)**2) / variance) / np.sqrt(2 * np.pi * variance)\n",
    "        self.weights *= likelihoods\n",
    "        self.weights /= np.sum(self.weights)\n",
    "\n",
    "    def resample_and_perturb(self):\n",
    "        \"\"\"Resample particles based on their weights and adapt perturbation using KL divergence and Hessian.\"\"\"\n",
    "        effective_sample_size = 1.0 / np.sum(self.weights**2)\n",
    "        if effective_sample_size / self.num_particles < self.resample_threshold:\n",
    "            indices = np.random.choice(np.arange(self.num_particles), size=self.num_particles, p=self.weights)\n",
    "            self.kappa_particles = self.kappa_particles[indices]\n",
    "            self.theta_particles = self.theta_particles[indices]\n",
    "            self.sigma_particles = self.sigma_particles[indices]\n",
    "\n",
    "            # Adapt the perturbation distribution\n",
    "            optimal_variance = self.adapt_perturbation_distribution()\n",
    "\n",
    "            # Perturb particles with Gaussian noise using the adapted variance\n",
    "            self.kappa_particles += np.random.normal(0, np.sqrt(optimal_variance), self.num_particles)\n",
    "            self.theta_particles += np.random.normal(0, self.jitter_scale * np.std(self.theta_particles), self.num_particles)\n",
    "            self.sigma_particles += np.random.normal(0, self.jitter_scale * np.std(self.sigma_particles), self.num_particles)\n",
    "\n",
    "            # Re-normalize weights\n",
    "            self.weights.fill(1.0 / self.num_particles)\n",
    "\n",
    "    def adapt_perturbation_distribution(self):\n",
    "        \"\"\"Adapt perturbation distribution to minimize KL divergence.\"\"\"\n",
    "        # Compute the mean and variance of the current particle set for kappa\n",
    "        kappa_mean = np.average(self.kappa_particles, weights=self.weights)\n",
    "        kappa_variance = np.average((self.kappa_particles - kappa_mean)**2, weights=self.weights)\n",
    "\n",
    "        # Define the current perturbation distribution as a normal distribution\n",
    "        current_distribution = norm(loc=kappa_mean, scale=np.sqrt(kappa_variance))\n",
    "\n",
    "        # Approximate the posterior distribution using the particle set\n",
    "        posterior_distribution = lambda kappa: np.sum(self.weights * norm.pdf(kappa, loc=self.kappa_particles, scale=self.jitter_scale * np.std(self.kappa_particles)))\n",
    "\n",
    "        # Objective function: KL divergence between posterior and perturbation distribution\n",
    "        def kl_divergence(scale):\n",
    "            perturb_distribution = norm(loc=kappa_mean, scale=scale)\n",
    "            kl_div = np.sum(self.weights * np.log(posterior_distribution(self.kappa_particles) / perturb_distribution.pdf(self.kappa_particles)))\n",
    "            return kl_div\n",
    "\n",
    "        # Minimize KL divergence to find the optimal scale (variance)\n",
    "        result = minimize(kl_divergence, np.sqrt(kappa_variance), bounds=[(1e-8, None)], method='L-BFGS-B')\n",
    "        optimal_variance = result.x[0]**2\n",
    "\n",
    "        # Use Hessian to adapt further\n",
    "        hessian = self.compute_hessian(kappa_mean)\n",
    "        optimal_variance = 1 / hessian if hessian > 0 else optimal_variance\n",
    "\n",
    "        return optimal_variance\n",
    "\n",
    "    def compute_hessian(self, kappa_mean):\n",
    "        \"\"\"Compute the Hessian of the log-likelihood with respect to kappa.\"\"\"\n",
    "        epsilon = 1e-5\n",
    "        log_likelihood = lambda kappa: -np.sum(np.log(norm.pdf(self.kappa_particles, loc=kappa, scale=self.jitter_scale * np.std(self.kappa_particles))))\n",
    "\n",
    "        first_derivative = (log_likelihood(kappa_mean + epsilon) - log_likelihood(kappa_mean - epsilon)) / (2 * epsilon)\n",
    "        second_derivative = (log_likelihood(kappa_mean + epsilon) - 2 * log_likelihood(kappa_mean) + log_likelihood(kappa_mean - epsilon)) / (epsilon**2)\n",
    "\n",
    "        return second_derivative\n",
    "\n",
    "    def weighted_median(self, data, weights):\n",
    "        \"\"\"Compute the weighted median of the data.\"\"\"\n",
    "        sorted_indices = np.argsort(data)\n",
    "        sorted_data = data[sorted_indices]\n",
    "        sorted_weights = weights[sorted_indices]\n",
    "        cumulative_weights = np.cumsum(sorted_weights)\n",
    "\n",
    "        cutoff = cumulative_weights[-1] / 2.0\n",
    "        median_index = np.where(cumulative_weights >= cutoff)[0][0]\n",
    "        return sorted_data[median_index]\n",
    "\n",
    "    def mle_estimate(self, r):\n",
    "        \"\"\"Estimate theta and sigma using MLE.\"\"\"\n",
    "        def negative_log_likelihood(params):\n",
    "            theta, sigma = params\n",
    "            kappa = self.kappa_particles.mean()  # Use mean kappa from particles as a fixed value for simplicity\n",
    "            dt = self.dt\n",
    "            drift = kappa * (theta - r[:-1]) * dt\n",
    "            variance = sigma**2 * dt\n",
    "            log_likelihood = -0.5 * np.sum(np.log(2 * np.pi * variance) + ((r[1:] - r[:-1] - drift) ** 2) / variance)\n",
    "            return -log_likelihood\n",
    "\n",
    "        initial_params = [np.mean(r), np.std(np.diff(r)) * np.sqrt(252)]\n",
    "        bounds = [(None, None), (1e-8, None)]\n",
    "        result = minimize(negative_log_likelihood, initial_params, bounds=bounds, method='L-BFGS-B')\n",
    "        self.mle_theta, self.mle_sigma = result.x\n",
    "\n",
    "    def filter_particles(self):\n",
    "        \"\"\"Filter particles to those close to MLE estimates of theta and sigma.\"\"\"\n",
    "        close_to_mle = (\n",
    "            np.abs(self.theta_particles - self.mle_theta) < self.tolerance * np.abs(self.mle_theta)\n",
    "        ) & (\n",
    "            np.abs(self.sigma_particles - self.mle_sigma) < self.tolerance * np.abs(self.mle_sigma)\n",
    "        )\n",
    "        \n",
    "        filtered_indices = np.where(close_to_mle)[0]\n",
    "        if len(filtered_indices) > 0:\n",
    "            self.kappa_particles = self.kappa_particles[filtered_indices]\n",
    "            self.theta_particles = self.theta_particles[filtered_indices]\n",
    "            self.sigma_particles = self.sigma_particles[filtered_indices]\n",
    "            self.weights = self.weights[filtered_indices]\n",
    "            self.weights /= np.sum(self.weights)\n",
    "        else:\n",
    "            print(\"No particles found close to MLE estimates within the specified tolerance.\")\n",
    "\n",
    "    def estimate_parameters(self):\n",
    "        \"\"\"Estimate the parameters by computing the weighted median of the filtered particles.\"\"\"\n",
    "        self.filter_particles()\n",
    "        kappa_est = self.weighted_median(self.kappa_particles, self.weights)\n",
    "        theta_est = self.weighted_median(self.theta_particles, self.weights)\n",
    "        sigma_est = self.weighted_median(self.sigma_particles, self.weights)\n",
    "        return kappa_est, theta_est, sigma_est\n",
    "\n",
    "    def run_particle_filter(self, data, kappa_range, theta_range, sigma_range):\n",
    "        \"\"\"Run the particle filter on the given data.\"\"\"\n",
    "        self.initialize_particles(kappa_range, theta_range, sigma_range)\n",
    "        self.mle_estimate(data)  # Calculate MLE estimates for theta and sigma\n",
    "        \n",
    "        for t in range(1, len(data)):\n",
    "            self.predict()\n",
    "            self.update(data[t-1], data[t])\n",
    "            self.resample_and_perturb()\n",
    "\n",
    "        return self.estimate_parameters()\n",
    "\n",
    "\n",
    "\n",
    "pf = ParticleFilterOU(num_particles=2000, dt=dt, jitter_scale=0.1, tolerance=1)\n",
    "kappa_est, theta_est, sigma_est = pf.run_particle_filter(rates, kappa_range, theta_range, sigma_range)\n",
    "\n",
    "print(f\"True kappa: {kappa}, PF Estimated kappa: {kappa_est}, MLE Estimated kappa: {kappa_mle}\")\n",
    "print(f\"True theta: {theta}, PF Estimated theta: {theta_est}, MLE Estimated theta: {theta_mle}\")\n",
    "print(f\"True sigma: {sigma}, PF Estimated sigma: {sigma_est}, MLE Estimated sigma: {sigma_mle}\")\n",
    "print(f\"{pf.mle_theta}, {pf.mle_sigma}\")\n",
    "sns.scatterplot(x=pf.theta_particles, y=pf.kappa_particles, hue=pf.weights, palette=\"viridis\")"
   ]
  },
  {
   "cell_type": "code",
   "execution_count": null,
   "metadata": {},
   "outputs": [],
   "source": []
  },
  {
   "cell_type": "code",
   "execution_count": null,
   "metadata": {},
   "outputs": [],
   "source": []
  },
  {
   "cell_type": "code",
   "execution_count": null,
   "metadata": {},
   "outputs": [],
   "source": []
  },
  {
   "cell_type": "code",
   "execution_count": null,
   "metadata": {},
   "outputs": [],
   "source": []
  },
  {
   "cell_type": "code",
   "execution_count": null,
   "metadata": {},
   "outputs": [],
   "source": []
  },
  {
   "cell_type": "code",
   "execution_count": 10,
   "metadata": {},
   "outputs": [],
   "source": [
    "def B(t, T, kappa, theta, sigma):\n",
    "    tau = T - t\n",
    "    return (1 - np.exp(-kappa * tau)) / kappa\n",
    "\n",
    "def A(t, T, kappa, theta, sigma):\n",
    "    tau = T - t\n",
    "    return np.exp((theta - (sigma**2) / (2 * kappa**2)) * (B(t, T, kappa, theta, sigma) - tau) - (sigma**2) * (B(t, T, kappa, theta, sigma)**2) / (4 * kappa))\n",
    "\n",
    "def zero_coupon_bond_price(r_t, kappa, theta, sigma, T, t=0):\n",
    "    return A(t, T, kappa, theta, sigma) * np.exp(-B(t, T, kappa, theta, sigma) * r_t)\n",
    "\n",
    "def zero_coupon_yield(r_t, kappa, theta, sigma, T, t=0):\n",
    "    price = zero_coupon_bond_price(r_t, kappa, theta, sigma, T, t)\n",
    "    return -np.log(price) / (T - t)"
   ]
  },
  {
   "cell_type": "code",
   "execution_count": 6,
   "metadata": {},
   "outputs": [
    {
     "name": "stdout",
     "output_type": "stream",
     "text": [
      "Zero-coupon bond price: 0.9512882997253278\n"
     ]
    }
   ],
   "source": [
    "\n",
    "# Example usage\n",
    "r_t = 0.05  # Current short rate\n",
    "kappa = 0.1\n",
    "theta = 0.05\n",
    "sigma = 0.02\n",
    "T = 1.0  # Maturity time in years\n",
    "\n",
    "# Compute the zero-coupon bond price\n",
    "price = zero_coupon_bond_price(r_t, kappa, theta, sigma, T)\n",
    "print(f\"Zero-coupon bond price: {price}\")\n"
   ]
  },
  {
   "cell_type": "code",
   "execution_count": null,
   "metadata": {},
   "outputs": [],
   "source": [
    "yield_05 = np.asarray([zero_coupon_yield(0,  5, r_t, kappa, theta, sigma) for r_t in rates_exact[1]])\n",
    "yield_10 = np.asarray([zero_coupon_yield(0, 10, r_t, kappa, theta, sigma) for r_t in rates_exact[1]])\n",
    "yield_30 = np.asarray([zero_coupon_yield(0, 30, r_t, kappa, theta, sigma) for r_T in rates_exact[1]])"
   ]
  }
 ],
 "metadata": {
  "kernelspec": {
   "display_name": "ml_env",
   "language": "python",
   "name": "python3"
  },
  "language_info": {
   "codemirror_mode": {
    "name": "ipython",
    "version": 3
   },
   "file_extension": ".py",
   "mimetype": "text/x-python",
   "name": "python",
   "nbconvert_exporter": "python",
   "pygments_lexer": "ipython3",
   "version": "3.11.6"
  }
 },
 "nbformat": 4,
 "nbformat_minor": 2
}
